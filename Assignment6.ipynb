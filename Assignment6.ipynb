{
  "nbformat": 4,
  "nbformat_minor": 0,
  "metadata": {
    "colab": {
      "provenance": [],
      "authorship_tag": "ABX9TyNXiP+lZnk12aKupfXzUOWj",
      "include_colab_link": true
    },
    "kernelspec": {
      "name": "python3",
      "display_name": "Python 3"
    },
    "language_info": {
      "name": "python"
    }
  },
  "cells": [
    {
      "cell_type": "markdown",
      "metadata": {
        "id": "view-in-github",
        "colab_type": "text"
      },
      "source": [
        "<a href=\"https://colab.research.google.com/github/GuptaShivam007/Assignments/blob/main/Assignment6.ipynb\" target=\"_parent\"><img src=\"https://colab.research.google.com/assets/colab-badge.svg\" alt=\"Open In Colab\"/></a>"
      ]
    },
    {
      "cell_type": "code",
      "execution_count": null,
      "metadata": {
        "id": "IMqaB-GJk0_L"
      },
      "outputs": [],
      "source": [
        "import numpy as np\n",
        "import pandas as pd\n",
        "import matplotlib.pyplot as plt\n"
      ]
    },
    {
      "cell_type": "code",
      "source": [
        "from sklearn.cluster import KMeans"
      ],
      "metadata": {
        "id": "T9I4RpuIpmpO"
      },
      "execution_count": null,
      "outputs": []
    },
    {
      "cell_type": "code",
      "source": [
        "data=pd.read_csv('Mall_Customers.csv')"
      ],
      "metadata": {
        "id": "xUF1rqFgqqkg"
      },
      "execution_count": null,
      "outputs": []
    },
    {
      "cell_type": "code",
      "source": [
        "x=data.iloc[:,3]\n",
        "y=data.iloc[:,-1]"
      ],
      "metadata": {
        "id": "eW5uYk5IrBA6"
      },
      "execution_count": null,
      "outputs": []
    },
    {
      "cell_type": "code",
      "source": [
        "x=list(x)\n",
        "y=list(y)"
      ],
      "metadata": {
        "id": "C2kAtNQIrRpv"
      },
      "execution_count": null,
      "outputs": []
    },
    {
      "cell_type": "code",
      "source": [
        "y"
      ],
      "metadata": {
        "colab": {
          "base_uri": "https://localhost:8080/"
        },
        "id": "FLT8kAhzroVh",
        "outputId": "2fd6947d-24e3-4341-9e8b-6660067eaddf"
      },
      "execution_count": null,
      "outputs": [
        {
          "output_type": "execute_result",
          "data": {
            "text/plain": [
              "[39,\n",
              " 81,\n",
              " 6,\n",
              " 77,\n",
              " 40,\n",
              " 76,\n",
              " 6,\n",
              " 94,\n",
              " 3,\n",
              " 72,\n",
              " 14,\n",
              " 99,\n",
              " 15,\n",
              " 77,\n",
              " 13,\n",
              " 79,\n",
              " 35,\n",
              " 66,\n",
              " 29,\n",
              " 98,\n",
              " 35,\n",
              " 73,\n",
              " 5,\n",
              " 73,\n",
              " 14,\n",
              " 82,\n",
              " 32,\n",
              " 61,\n",
              " 31,\n",
              " 87,\n",
              " 4,\n",
              " 73,\n",
              " 4,\n",
              " 92,\n",
              " 14,\n",
              " 81,\n",
              " 17,\n",
              " 73,\n",
              " 26,\n",
              " 75,\n",
              " 35,\n",
              " 92,\n",
              " 36,\n",
              " 61,\n",
              " 28,\n",
              " 65,\n",
              " 55,\n",
              " 47,\n",
              " 42,\n",
              " 42,\n",
              " 52,\n",
              " 60,\n",
              " 54,\n",
              " 60,\n",
              " 45,\n",
              " 41,\n",
              " 50,\n",
              " 46,\n",
              " 51,\n",
              " 46,\n",
              " 56,\n",
              " 55,\n",
              " 52,\n",
              " 59,\n",
              " 51,\n",
              " 59,\n",
              " 50,\n",
              " 48,\n",
              " 59,\n",
              " 47,\n",
              " 55,\n",
              " 42,\n",
              " 49,\n",
              " 56,\n",
              " 47,\n",
              " 54,\n",
              " 53,\n",
              " 48,\n",
              " 52,\n",
              " 42,\n",
              " 51,\n",
              " 55,\n",
              " 41,\n",
              " 44,\n",
              " 57,\n",
              " 46,\n",
              " 58,\n",
              " 55,\n",
              " 60,\n",
              " 46,\n",
              " 55,\n",
              " 41,\n",
              " 49,\n",
              " 40,\n",
              " 42,\n",
              " 52,\n",
              " 47,\n",
              " 50,\n",
              " 42,\n",
              " 49,\n",
              " 41,\n",
              " 48,\n",
              " 59,\n",
              " 55,\n",
              " 56,\n",
              " 42,\n",
              " 50,\n",
              " 46,\n",
              " 43,\n",
              " 48,\n",
              " 52,\n",
              " 54,\n",
              " 42,\n",
              " 46,\n",
              " 48,\n",
              " 50,\n",
              " 43,\n",
              " 59,\n",
              " 43,\n",
              " 57,\n",
              " 56,\n",
              " 40,\n",
              " 58,\n",
              " 91,\n",
              " 29,\n",
              " 77,\n",
              " 35,\n",
              " 95,\n",
              " 11,\n",
              " 75,\n",
              " 9,\n",
              " 75,\n",
              " 34,\n",
              " 71,\n",
              " 5,\n",
              " 88,\n",
              " 7,\n",
              " 73,\n",
              " 10,\n",
              " 72,\n",
              " 5,\n",
              " 93,\n",
              " 40,\n",
              " 87,\n",
              " 12,\n",
              " 97,\n",
              " 36,\n",
              " 74,\n",
              " 22,\n",
              " 90,\n",
              " 17,\n",
              " 88,\n",
              " 20,\n",
              " 76,\n",
              " 16,\n",
              " 89,\n",
              " 1,\n",
              " 78,\n",
              " 1,\n",
              " 73,\n",
              " 35,\n",
              " 83,\n",
              " 5,\n",
              " 93,\n",
              " 26,\n",
              " 75,\n",
              " 20,\n",
              " 95,\n",
              " 27,\n",
              " 63,\n",
              " 13,\n",
              " 75,\n",
              " 10,\n",
              " 92,\n",
              " 13,\n",
              " 86,\n",
              " 15,\n",
              " 69,\n",
              " 14,\n",
              " 90,\n",
              " 32,\n",
              " 86,\n",
              " 15,\n",
              " 88,\n",
              " 39,\n",
              " 97,\n",
              " 24,\n",
              " 68,\n",
              " 17,\n",
              " 85,\n",
              " 23,\n",
              " 69,\n",
              " 8,\n",
              " 91,\n",
              " 16,\n",
              " 79,\n",
              " 28,\n",
              " 74,\n",
              " 18,\n",
              " 83]"
            ]
          },
          "metadata": {},
          "execution_count": 6
        }
      ]
    },
    {
      "cell_type": "code",
      "source": [
        "dataset=list(zip(x,y))"
      ],
      "metadata": {
        "id": "9jY3h7hvspT0"
      },
      "execution_count": null,
      "outputs": []
    },
    {
      "cell_type": "code",
      "source": [
        "print(dataset)"
      ],
      "metadata": {
        "colab": {
          "base_uri": "https://localhost:8080/"
        },
        "id": "V_d85ftnsuzT",
        "outputId": "83876a85-cf25-4590-b4fe-71db856685ed"
      },
      "execution_count": null,
      "outputs": [
        {
          "output_type": "stream",
          "name": "stdout",
          "text": [
            "[(15, 39), (15, 81), (16, 6), (16, 77), (17, 40), (17, 76), (18, 6), (18, 94), (19, 3), (19, 72), (19, 14), (19, 99), (20, 15), (20, 77), (20, 13), (20, 79), (21, 35), (21, 66), (23, 29), (23, 98), (24, 35), (24, 73), (25, 5), (25, 73), (28, 14), (28, 82), (28, 32), (28, 61), (29, 31), (29, 87), (30, 4), (30, 73), (33, 4), (33, 92), (33, 14), (33, 81), (34, 17), (34, 73), (37, 26), (37, 75), (38, 35), (38, 92), (39, 36), (39, 61), (39, 28), (39, 65), (40, 55), (40, 47), (40, 42), (40, 42), (42, 52), (42, 60), (43, 54), (43, 60), (43, 45), (43, 41), (44, 50), (44, 46), (46, 51), (46, 46), (46, 56), (46, 55), (47, 52), (47, 59), (48, 51), (48, 59), (48, 50), (48, 48), (48, 59), (48, 47), (49, 55), (49, 42), (50, 49), (50, 56), (54, 47), (54, 54), (54, 53), (54, 48), (54, 52), (54, 42), (54, 51), (54, 55), (54, 41), (54, 44), (54, 57), (54, 46), (57, 58), (57, 55), (58, 60), (58, 46), (59, 55), (59, 41), (60, 49), (60, 40), (60, 42), (60, 52), (60, 47), (60, 50), (61, 42), (61, 49), (62, 41), (62, 48), (62, 59), (62, 55), (62, 56), (62, 42), (63, 50), (63, 46), (63, 43), (63, 48), (63, 52), (63, 54), (64, 42), (64, 46), (65, 48), (65, 50), (65, 43), (65, 59), (67, 43), (67, 57), (67, 56), (67, 40), (69, 58), (69, 91), (70, 29), (70, 77), (71, 35), (71, 95), (71, 11), (71, 75), (71, 9), (71, 75), (72, 34), (72, 71), (73, 5), (73, 88), (73, 7), (73, 73), (74, 10), (74, 72), (75, 5), (75, 93), (76, 40), (76, 87), (77, 12), (77, 97), (77, 36), (77, 74), (78, 22), (78, 90), (78, 17), (78, 88), (78, 20), (78, 76), (78, 16), (78, 89), (78, 1), (78, 78), (78, 1), (78, 73), (79, 35), (79, 83), (81, 5), (81, 93), (85, 26), (85, 75), (86, 20), (86, 95), (87, 27), (87, 63), (87, 13), (87, 75), (87, 10), (87, 92), (88, 13), (88, 86), (88, 15), (88, 69), (93, 14), (93, 90), (97, 32), (97, 86), (98, 15), (98, 88), (99, 39), (99, 97), (101, 24), (101, 68), (103, 17), (103, 85), (103, 23), (103, 69), (113, 8), (113, 91), (120, 16), (120, 79), (126, 28), (126, 74), (137, 18), (137, 83)]\n"
          ]
        }
      ]
    },
    {
      "cell_type": "code",
      "source": [
        "kmeans=KMeans(n_clusters=2)\n",
        "kmeans.fit(dataset)\n",
        "plt.scatter(x,y,c=kmeans.labels_)"
      ],
      "metadata": {
        "colab": {
          "base_uri": "https://localhost:8080/",
          "height": 504
        },
        "id": "bx7CSv21s0uD",
        "outputId": "c4f595e1-d73d-400e-f1da-425cdf6c6702"
      },
      "execution_count": null,
      "outputs": [
        {
          "output_type": "stream",
          "name": "stderr",
          "text": [
            "/usr/local/lib/python3.10/dist-packages/sklearn/cluster/_kmeans.py:870: FutureWarning: The default value of `n_init` will change from 10 to 'auto' in 1.4. Set the value of `n_init` explicitly to suppress the warning\n",
            "  warnings.warn(\n"
          ]
        },
        {
          "output_type": "execute_result",
          "data": {
            "text/plain": [
              "<matplotlib.collections.PathCollection at 0x7d1241ec4bb0>"
            ]
          },
          "metadata": {},
          "execution_count": 16
        },
        {
          "output_type": "display_data",
          "data": {
            "text/plain": [
              "<Figure size 640x480 with 1 Axes>"
            ],
            "image/png": "[encoded data removed]"
          },
          "metadata": {}
        }
      ]
    }
  ]
}